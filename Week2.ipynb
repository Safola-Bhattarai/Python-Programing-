{
 "cells": [
  {
   "cell_type": "markdown",
   "metadata": {},
   "source": [
    "# Safola Bhattarai \n",
    "week2 Assignment\n",
    "\n",
    "Lambda functions, arbitrary arguments, return statements, default arguments, the range functions, and, finally, for loop statements were in the second week’s topics. Functions containing the lambda can create the small, anonymous functions, and arbitrary arguments mean functions take the variable number of arguments. Furthermore, return statements give output of functions and default arguments contain default value. For the flow and the repetition of tasks the range function and the for loops are used."
   ]
  },
  {
   "cell_type": "markdown",
   "metadata": {},
   "source": [
    "# For Loop\n",
    "Iiterate over list, range(enumarator)"
   ]
  },
  {
   "cell_type": "code",
   "execution_count": 1,
   "metadata": {},
   "outputs": [
    {
     "name": "stdout",
     "output_type": "stream",
     "text": [
      "1\n",
      "2\n",
      "3\n",
      "4\n",
      "5\n"
     ]
    }
   ],
   "source": [
    "number = [1,2,3,4,5] #list of interger \n",
    "counter = 0\n",
    "for num in number:\n",
    "  print(num)"
   ]
  },
  {
   "cell_type": "code",
   "execution_count": 3,
   "metadata": {},
   "outputs": [
    {
     "name": "stdout",
     "output_type": "stream",
     "text": [
      "2\n",
      "4\n",
      "100\n",
      "[2, 4, 100]\n",
      "[1, 2, 3, 4, 5, 11, 100]\n"
     ]
    }
   ],
   "source": [
    "# new list of even numbers from the given list \n",
    "numbers=[1,2,3,4,5,3,1,100]\n",
    "even_list=[]\n",
    "#iterate over list\n",
    "for num in numbers:\n",
    "    if num%2==0:\n",
    "        print(num)\n",
    "        even_list.append(num)\n",
    "print(even_list)\n",
    "#remove dublicate items from the given list \n",
    "numbers=[1,1,2,3,4,5,3,11,100]\n",
    "unique_numbers=[]\n",
    "for num in numbers:\n",
    "    if num not in unique_numbers:\n",
    "        unique_numbers.append(num)\n",
    "print(unique_numbers)"
   ]
  },
  {
   "cell_type": "markdown",
   "metadata": {},
   "source": [
    "# Range \n",
    "renge(start,stop,step)"
   ]
  },
  {
   "cell_type": "code",
   "execution_count": 7,
   "metadata": {},
   "outputs": [
    {
     "name": "stdout",
     "output_type": "stream",
     "text": [
      "0\n",
      "1\n",
      "2\n",
      "3\n",
      "4\n",
      "5\n",
      "6\n",
      "7\n",
      "8\n",
      "9\n"
     ]
    }
   ],
   "source": [
    "range_of_100=range(1,100)\n",
    "for i in range(0,10):\n",
    "    print(i)\n"
   ]
  },
  {
   "cell_type": "code",
   "execution_count": 11,
   "metadata": {},
   "outputs": [
    {
     "name": "stdout",
     "output_type": "stream",
     "text": [
      "[2, 4, 6, 88]\n",
      "[100, 200, 300, 400, 500, 600, 8800, 1900]\n"
     ]
    }
   ],
   "source": [
    "# inline for loop\n",
    "numbers=[1,2,3,4,5,6,88,19]\n",
    "list_of_even_numbers=[num for num in numbers if num%2==0]\n",
    "print(list_of_even_numbers)\n",
    "numbers=[1,2,3,4,5,6,88,19]\n",
    "list_of_multiplication_numbers=[num *100 for num in numbers]\n",
    "print(list_of_multiplication_numbers)\n",
    "\n"
   ]
  },
  {
   "cell_type": "markdown",
   "metadata": {},
   "source": [
    "# function "
   ]
  },
  {
   "cell_type": "code",
   "execution_count": 14,
   "metadata": {},
   "outputs": [
    {
     "name": "stdout",
     "output_type": "stream",
     "text": [
      "55\n",
      "10\n"
     ]
    }
   ],
   "source": [
    "def add (x,y):\n",
    "    sum=x+y\n",
    "    return sum \n",
    "sum_of_two_numbers=add(x=10, y=45)\n",
    "print(sum_of_two_numbers)\n",
    "def multiply(x,y):\n",
    "    multiply=x*y\n",
    "    return multiply\n",
    "multiplication_of_two_numbers=multiply(x=2,y=5)\n",
    "print(multiplication_of_two_numbers)"
   ]
  },
  {
   "cell_type": "markdown",
   "metadata": {},
   "source": [
    "# Default arguments  "
   ]
  },
  {
   "cell_type": "code",
   "execution_count": 2,
   "metadata": {},
   "outputs": [
    {
     "name": "stdout",
     "output_type": "stream",
     "text": [
      "Hello,Hari!\n",
      "8\n"
     ]
    }
   ],
   "source": [
    "def greet(name=\"World\"):\n",
    "    print(f\"Hello,{name}!\")\n",
    "greet(\"Hari\")\n",
    "def sum(a=0,b=0):\n",
    "    return a+b\n",
    "print(sum(a=5,b=3))"
   ]
  },
  {
   "cell_type": "markdown",
   "metadata": {},
   "source": [
    "# arbitrary Arguments"
   ]
  },
  {
   "cell_type": "code",
   "execution_count": 6,
   "metadata": {},
   "outputs": [
    {
     "name": "stdout",
     "output_type": "stream",
     "text": [
      "1 2\n",
      "(3, 4, 5, 6)\n",
      "None\n"
     ]
    }
   ],
   "source": [
    "def add(a,b,*args):\n",
    "    print(a,b)\n",
    "    print(args)\n",
    "a=add(1,2,3,4,5,6)\n",
    "print(a)"
   ]
  },
  {
   "cell_type": "markdown",
   "metadata": {},
   "source": [
    "# return statemnt \n",
    "function can return a value using return statement \n",
    "\n",
    "if no return statement is provided, then the function returns none by default "
   ]
  },
  {
   "cell_type": "code",
   "execution_count": 9,
   "metadata": {},
   "outputs": [
    {
     "name": "stdout",
     "output_type": "stream",
     "text": [
      "number is odd\n"
     ]
    }
   ],
   "source": [
    "def is_even_number(number):\n",
    "    if number %2==0:\n",
    "        return 'number is even'\n",
    "    return 'number is odd'\n",
    "check_number= is_even_number(5)\n",
    "print(check_number)"
   ]
  },
  {
   "cell_type": "code",
   "execution_count": 11,
   "metadata": {},
   "outputs": [
    {
     "name": "stdout",
     "output_type": "stream",
     "text": [
      "None\n"
     ]
    }
   ],
   "source": [
    "def is_even_number(number):\n",
    "    if number %2==0:\n",
    "        return\n",
    "check_number= is_even_number(5)\n",
    "print(check_number)"
   ]
  },
  {
   "cell_type": "code",
   "execution_count": 15,
   "metadata": {},
   "outputs": [
    {
     "name": "stdout",
     "output_type": "stream",
     "text": [
      "Result: 15.0\n"
     ]
    }
   ],
   "source": [
    "#write a function that accepts three values (arguments) x,y, operations \n",
    "#where x=>int, y->int, operation-> string(+,-,*,/) \n",
    "#function shouuld return the output based on the operations \n",
    "#that is if operations=+add (x+y)\n",
    "#operation = - subtract and so on (x-y)\n",
    "def calculate(x, y, operation):\n",
    "    if operation == '+':\n",
    "        return x + y\n",
    "    elif operation == '-':\n",
    "        return x - y\n",
    "    elif operation == '*':\n",
    "        return x * y\n",
    "    elif operation == '/':\n",
    "        if y != 0: \n",
    "            return x / y\n",
    "        else:\n",
    "            return \"Error: Division by zero is not allowed.\"\n",
    "    else:\n",
    "        return \"Invalid operation  Use '+', '-', '*', or '/'.\"\n",
    "\n",
    "result = calculate(30, 2, '/')\n",
    "print(\"Result:\", result)  "
   ]
  },
  {
   "cell_type": "markdown",
   "metadata": {},
   "source": [
    "# LAMBDA Funtions"
   ]
  },
  {
   "cell_type": "code",
   "execution_count": 16,
   "metadata": {},
   "outputs": [
    {
     "name": "stdout",
     "output_type": "stream",
     "text": [
      "16\n"
     ]
    }
   ],
   "source": [
    "square= lambda x:x**2\n",
    "print(square(4))"
   ]
  },
  {
   "cell_type": "code",
   "execution_count": 29,
   "metadata": {},
   "outputs": [
    {
     "name": "stdout",
     "output_type": "stream",
     "text": [
      "5 6\n"
     ]
    }
   ],
   "source": [
    "# write a funcion swap two numbers without using a temporary variable \n",
    "def swap(a,b):\n",
    "    a=a+b\n",
    "    b=a-b\n",
    "    a=a-b\n",
    "    print(a,b)\n",
    "    return a,b\n",
    "a=6\n",
    "b=5\n",
    "a,b=swap (a,b)\n",
    "\n"
   ]
  },
  {
   "cell_type": "code",
   "execution_count": 1,
   "metadata": {},
   "outputs": [
    {
     "name": "stdout",
     "output_type": "stream",
     "text": [
      "6\n"
     ]
    }
   ],
   "source": [
    "# write a funtion determine if a string is a palindrome\n",
    "def is_palindrome(s):\n",
    "    cleaned_string = \"\"\n",
    "    for char in s:\n",
    "        if char.isalnum():  \n",
    "            cleaned_string += char.lower()  \n",
    "    reversed_string = \"\"\n",
    "    for i in range(len(cleaned_string) - 1, -1, -1):\n",
    "        reversed_string += cleaned_string[i]\n",
    "    \n",
    "    if cleaned_string == reversed_string:\n",
    "        return True\n",
    "    else:\n",
    "        return False\n",
    "    \n",
    "\n",
    "    \n",
    "# write a function to count the numbers of vowels in given string \n",
    "def count_vowels(sentence):\n",
    "    vowels='aeiou'\n",
    "    total_vowels=0\n",
    "    for char in sentence:\n",
    "        if char.lower()in vowels:\n",
    "            total_vowels+=1\n",
    "    return total_vowels\n",
    "total_vowels=count_vowels('My name is safola')\n",
    "print(total_vowels)\n"
   ]
  }
 ],
 "metadata": {
  "kernelspec": {
   "display_name": "Python 3",
   "language": "python",
   "name": "python3"
  },
  "language_info": {
   "codemirror_mode": {
    "name": "ipython",
    "version": 3
   },
   "file_extension": ".py",
   "mimetype": "text/x-python",
   "name": "python",
   "nbconvert_exporter": "python",
   "pygments_lexer": "ipython3",
   "version": "3.12.7"
  }
 },
 "nbformat": 4,
 "nbformat_minor": 2
}
