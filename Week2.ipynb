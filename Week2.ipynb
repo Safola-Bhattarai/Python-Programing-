{
 "cells": [
  {
   "cell_type": "markdown",
   "metadata": {},
   "source": [
    "# For Loop\n",
    "Iiterate over list, range(enumarator)"
   ]
  },
  {
   "cell_type": "code",
   "execution_count": 1,
   "metadata": {},
   "outputs": [
    {
     "name": "stdout",
     "output_type": "stream",
     "text": [
      "1\n",
      "2\n",
      "3\n",
      "4\n",
      "5\n"
     ]
    }
   ],
   "source": [
    "number = [1,2,3,4,5] #list of interger \n",
    "counter = 0\n",
    "for num in number:\n",
    "  print(num)"
   ]
  },
  {
   "cell_type": "code",
   "execution_count": 3,
   "metadata": {},
   "outputs": [
    {
     "name": "stdout",
     "output_type": "stream",
     "text": [
      "2\n",
      "4\n",
      "100\n",
      "[2, 4, 100]\n",
      "[1, 2, 3, 4, 5, 11, 100]\n"
     ]
    }
   ],
   "source": [
    "# new list of even numbers from the given list \n",
    "numbers=[1,2,3,4,5,3,1,100]\n",
    "even_list=[]\n",
    "#iterate over list\n",
    "for num in numbers:\n",
    "    if num%2==0:\n",
    "        print(num)\n",
    "        even_list.append(num)\n",
    "print(even_list)\n",
    "#remove dublicate items from the given list \n",
    "numbers=[1,1,2,3,4,5,3,11,100]\n",
    "unique_numbers=[]\n",
    "for num in numbers:\n",
    "    if num not in unique_numbers:\n",
    "        unique_numbers.append(num)\n",
    "print(unique_numbers)"
   ]
  },
  {
   "cell_type": "markdown",
   "metadata": {},
   "source": [
    "# Range \n",
    "renge(start,stop,step)"
   ]
  },
  {
   "cell_type": "code",
   "execution_count": 7,
   "metadata": {},
   "outputs": [
    {
     "name": "stdout",
     "output_type": "stream",
     "text": [
      "0\n",
      "1\n",
      "2\n",
      "3\n",
      "4\n",
      "5\n",
      "6\n",
      "7\n",
      "8\n",
      "9\n"
     ]
    }
   ],
   "source": [
    "range_of_100=range(1,100)\n",
    "for i in range(0,10):\n",
    "    print(i)\n"
   ]
  },
  {
   "cell_type": "code",
   "execution_count": 11,
   "metadata": {},
   "outputs": [
    {
     "name": "stdout",
     "output_type": "stream",
     "text": [
      "[2, 4, 6, 88]\n",
      "[100, 200, 300, 400, 500, 600, 8800, 1900]\n"
     ]
    }
   ],
   "source": [
    "# inline for loop\n",
    "numbers=[1,2,3,4,5,6,88,19]\n",
    "list_of_even_numbers=[num for num in numbers if num%2==0]\n",
    "print(list_of_even_numbers)\n",
    "numbers=[1,2,3,4,5,6,88,19]\n",
    "list_of_multiplication_numbers=[num *100 for num in numbers]\n",
    "print(list_of_multiplication_numbers)\n",
    "\n"
   ]
  },
  {
   "cell_type": "markdown",
   "metadata": {},
   "source": [
    "# function "
   ]
  },
  {
   "cell_type": "code",
   "execution_count": 14,
   "metadata": {},
   "outputs": [
    {
     "name": "stdout",
     "output_type": "stream",
     "text": [
      "55\n",
      "10\n"
     ]
    }
   ],
   "source": [
    "def add (x,y):\n",
    "    sum=x+y\n",
    "    return sum \n",
    "sum_of_two_numbers=add(x=10, y=45)\n",
    "print(sum_of_two_numbers)\n",
    "def multiply(x,y):\n",
    "    multiply=x*y\n",
    "    return multiply\n",
    "multiplication_of_two_numbers=multiply(x=2,y=5)\n",
    "print(multiplication_of_two_numbers)"
   ]
  },
  {
   "cell_type": "markdown",
   "metadata": {},
   "source": [
    "Calling a function "
   ]
  },
  {
   "cell_type": "code",
   "execution_count": null,
   "metadata": {},
   "outputs": [],
   "source": []
  }
 ],
 "metadata": {
  "kernelspec": {
   "display_name": "Python 3",
   "language": "python",
   "name": "python3"
  },
  "language_info": {
   "codemirror_mode": {
    "name": "ipython",
    "version": 3
   },
   "file_extension": ".py",
   "mimetype": "text/x-python",
   "name": "python",
   "nbconvert_exporter": "python",
   "pygments_lexer": "ipython3",
   "version": "3.12.7"
  }
 },
 "nbformat": 4,
 "nbformat_minor": 2
}
