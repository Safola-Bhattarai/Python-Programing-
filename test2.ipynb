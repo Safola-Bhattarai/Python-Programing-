{
 "cells": [
  {
   "cell_type": "markdown",
   "metadata": {},
   "source": [
    "SAFOLA BHATTARAI Week 1 Assignment "
   ]
  },
  {
   "cell_type": "markdown",
   "metadata": {},
   "source": [
    "In this week here are the codes that were performed: \n",
    "In this first week's recent class, that were discussed includes; basic structures in Python: string, variables, testing using control structures; if statements, elif and else. We also introduced lists and basic operations such as append, insert, extend for adding elements in the list; and count as well as clear for list content retrieval. Moreover, we drilled on loops most significantly the for the loop when it comes to accessing elements of a list, we bear in mind how Python can handle repetitive task in structures such as lists. These exercises helped in creating a basic groundwork of dealing and processing data in Python programs."
   ]
  },
  {
   "cell_type": "markdown",
   "metadata": {},
   "source": [
    "My hello world program"
   ]
  },
  {
   "cell_type": "code",
   "execution_count": 1,
   "metadata": {},
   "outputs": [
    {
     "name": "stdout",
     "output_type": "stream",
     "text": [
      "Hello World\n"
     ]
    }
   ],
   "source": [
    "greetings = \"Hello World\"\n",
    "print(str(greetings))"
   ]
  },
  {
   "cell_type": "markdown",
   "metadata": {},
   "source": [
    "NUMBERS"
   ]
  },
  {
   "cell_type": "code",
   "execution_count": 2,
   "metadata": {},
   "outputs": [
    {
     "name": "stdout",
     "output_type": "stream",
     "text": [
      "13\n",
      "-5\n",
      "36\n",
      "0\n"
     ]
    }
   ],
   "source": [
    "#addition \n",
    "a=4\n",
    "b=9\n",
    "sum_of_a_ab=a+b\n",
    "print(a+b)\n",
    "#subbraction \n",
    "diff_of_a_ab=a-b\n",
    "print(a-b)\n",
    "#multiplication \n",
    "product_of_a_ab=a*b\n",
    "print(a*b)\n",
    "#division\n",
    "division_of_a_ab=(a//b)\n",
    "print(a//b)"
   ]
  },
  {
   "cell_type": "markdown",
   "metadata": {},
   "source": [
    "STRINGS"
   ]
  },
  {
   "cell_type": "code",
   "execution_count": null,
   "metadata": {},
   "outputs": [],
   "source": [
    "name ='Safola Bhattarai'\n",
    "#length of the string \n",
    "total_number_of_char= len(name)\n",
    "print(total_number_of_char)\n",
    "first_char=name[0-8]\n",
    "print(first_char)\n",
    "last_char=name[len(name)-1]\n",
    "print(last_char)"
   ]
  },
  {
   "cell_type": "markdown",
   "metadata": {},
   "source": [
    "CONDITIONS \n",
    "if, elif, else"
   ]
  },
  {
   "cell_type": "code",
   "execution_count": 3,
   "metadata": {},
   "outputs": [
    {
     "name": "stdout",
     "output_type": "stream",
     "text": [
      "i have to wake up at 5AM\n",
      "I have to go college\n",
      "Its thursday\n"
     ]
    }
   ],
   "source": [
    "day= 5\n",
    "if day==5:\n",
    "    print(\"i have to wake up at 5AM\")\n",
    "    print(\"I have to go college\")\n",
    "    print(\"Its thursday\")\n",
    "elif day==6:\n",
    "    print(\"Its friday\")\n",
    "else:\n",
    "    print(\"Weekend\")"
   ]
  },
  {
   "cell_type": "code",
   "execution_count": 4,
   "metadata": {},
   "outputs": [
    {
     "name": "stdout",
     "output_type": "stream",
     "text": [
      "Its time for science\n"
     ]
    }
   ],
   "source": [
    "time=int(input(\"enter time\"))\n",
    "#10=>'math'\n",
    "#12=>'Science'\n",
    "#14=>'english'\n",
    "if time>=10 and time<12:\n",
    "    print('Its time for math')\n",
    "elif time>=12 and time<14:\n",
    "    print('Its time for science')\n",
    "elif time>=14:\n",
    "    print('its time for english')\n",
    "else:\n",
    "    print('Its time for social')\n"
   ]
  },
  {
   "cell_type": "markdown",
   "metadata": {},
   "source": [
    "Loops"
   ]
  },
  {
   "cell_type": "code",
   "execution_count": 5,
   "metadata": {},
   "outputs": [
    {
     "name": "stdout",
     "output_type": "stream",
     "text": [
      "safola1\n",
      "safola2\n",
      "safola3\n",
      "safola4\n",
      "safola5\n",
      "safola6\n",
      "safola7\n",
      "safola8\n",
      "safola9\n"
     ]
    }
   ],
   "source": [
    "counter= 1\n",
    "while counter<=9:\n",
    "    print(f\"safola{counter}\")\n",
    "    counter+=1"
   ]
  },
  {
   "cell_type": "code",
   "execution_count": 1,
   "metadata": {},
   "outputs": [
    {
     "name": "stdout",
     "output_type": "stream",
     "text": [
      "5050\n",
      "2450\n"
     ]
    }
   ],
   "source": [
    "#find the sum of first n=100 natural numbers using while loop \n",
    "i=1\n",
    "n=100\n",
    "sum=0\n",
    "while i<=100:\n",
    "    sum+=i\n",
    "    i+=1\n",
    "print(sum)\n",
    "#find the sum of first n even numbers, n=100 using while loop \n",
    "n=100\n",
    "i=1\n",
    "sum_of_even_numbers=0\n",
    "while i<n:\n",
    "    if i%2==0:\n",
    "        sum_of_even_numbers+=i\n",
    "    i+=1\n",
    "print(sum_of_even_numbers)"
   ]
  },
  {
   "cell_type": "markdown",
   "metadata": {},
   "source": [
    "DATA TYPES "
   ]
  },
  {
   "cell_type": "code",
   "execution_count": 9,
   "metadata": {},
   "outputs": [
    {
     "name": "stdout",
     "output_type": "stream",
     "text": [
      "1\n",
      "6\n",
      "5\n"
     ]
    }
   ],
   "source": [
    "numbers = [1,2,3,4,5,5]\n",
    "students = ['Ram','Hari']\n",
    "# access elements from list\n",
    "first_number = numbers[0]\n",
    "print(first_number)\n",
    "# count total number of items\n",
    "total_items = len(numbers)\n",
    "print(total_items)\n",
    "# last element\n",
    "last_element = numbers[len(numbers)-1]\n",
    "print(last_element)"
   ]
  },
  {
   "cell_type": "markdown",
   "metadata": {},
   "source": [
    "PYTHON LIST"
   ]
  },
  {
   "cell_type": "markdown",
   "metadata": {},
   "source": [
    "\n",
    "append (Appends new item at the end)\n",
    "pop (removes last element)\n",
    "count (return total number of item)\n",
    "insert (Insert item at partiucular index)\n",
    "extend ()\n",
    "copy ()\n",
    "clear (delete all items)"
   ]
  },
  {
   "cell_type": "code",
   "execution_count": 10,
   "metadata": {},
   "outputs": [
    {
     "name": "stdout",
     "output_type": "stream",
     "text": [
      "[1, 2, 3, 4, 5, 6, 7]\n",
      "[1, 2, 3, 4, 5, 6, 7, 8]\n",
      "[1, 2, 3, 4, 5, 6, 7]\n",
      "[1, 2, 3, 4, 6, 7]\n",
      "[1, 2, 10, 3, 4, 6, 7]\n",
      "[1, 2, 3, 4]\n",
      "[]\n"
     ]
    }
   ],
   "source": [
    "numbers=[1,2,3,4,5,6,7]\n",
    "print(numbers)\n",
    "#append\n",
    "numbers.append(8)\n",
    "print(numbers)\n",
    "#pop\n",
    "numbers.pop()\n",
    "print(numbers)\n",
    "#remove\n",
    "numbers.remove(5)\n",
    "print(numbers)\n",
    "#insert\n",
    "numbers.insert(2,10)\n",
    "print(numbers)\n",
    "#extend\n",
    "numbers_1=[1,2]\n",
    "numbers_2=[3,4]\n",
    "numbers_1.extend(numbers_2)\n",
    "print(numbers_1)\n",
    "#clear\n",
    "numbers_1.clear()\n",
    "print(numbers_1)\n"
   ]
  },
  {
   "cell_type": "markdown",
   "metadata": {},
   "source": [
    "Loops through list"
   ]
  },
  {
   "cell_type": "code",
   "execution_count": 14,
   "metadata": {},
   "outputs": [
    {
     "name": "stdout",
     "output_type": "stream",
     "text": [
      "6\n"
     ]
    }
   ],
   "source": [
    "# find the sum of all items of given list\n",
    "numbers = [1,2,3,4,5,6,6]\n",
    "total_items = len(numbers)\n",
    "index = 0\n",
    "sum = 0\n",
    "while index<total_items:\n",
    "    sum = numbers[index]\n",
    "    index+=1\n",
    "print(sum)"
   ]
  },
  {
   "cell_type": "markdown",
   "metadata": {},
   "source": [
    "Find the max value from the given list"
   ]
  },
  {
   "cell_type": "code",
   "execution_count": null,
   "metadata": {},
   "outputs": [
    {
     "name": "stdout",
     "output_type": "stream",
     "text": [
      "1009\n"
     ]
    }
   ],
   "source": [
    "numbers = [-10,3,9,-50,100,1009]\n",
    "index = 0\n",
    "total_items = len(numbers)\n",
    "max_value = 0\n",
    "while index<total_items:\n",
    "  items = numbers[index]\n",
    "  if items>max_value:\n",
    "    max_value = items\n",
    "  index+=1\n",
    "print(max_value)\n",
    "\n",
    "# find minimum value\n",
    "numbers = [-10, 3, 9, -50, 100, 1009]\n",
    "index = 0\n",
    "total_items = len(numbers)\n",
    "min_value = numbers[0]\n",
    "while index < total_items:\n",
    " item = numbers[index]\n",
    "if item < min_value:\n",
    " min_value = item\n",
    " index += 1\n",
    "print(min_value)"
   ]
  },
  {
   "cell_type": "markdown",
   "metadata": {},
   "source": [
    "Join all list item into single string"
   ]
  },
  {
   "cell_type": "code",
   "execution_count": 17,
   "metadata": {},
   "outputs": [
    {
     "name": "stdout",
     "output_type": "stream",
     "text": [
      "Har-ram-Gopal\n"
     ]
    }
   ],
   "source": [
    "students=['Har','ram','Gopal']\n",
    "all_students = '-'.join(students)\n",
    "print(all_students)"
   ]
  }
 ],
 "metadata": {
  "kernelspec": {
   "display_name": "Python 3",
   "language": "python",
   "name": "python3"
  },
  "language_info": {
   "codemirror_mode": {
    "name": "ipython",
    "version": 3
   },
   "file_extension": ".py",
   "mimetype": "text/x-python",
   "name": "python",
   "nbconvert_exporter": "python",
   "pygments_lexer": "ipython3",
   "version": "3.12.7"
  }
 },
 "nbformat": 4,
 "nbformat_minor": 2
}
